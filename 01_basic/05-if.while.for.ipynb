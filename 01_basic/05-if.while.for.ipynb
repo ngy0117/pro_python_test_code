{
 "cells": [
  {
   "cell_type": "code",
   "execution_count": 1,
   "id": "e62c1756-822b-4f1e-84ac-da580a40d7e9",
   "metadata": {
    "tags": []
   },
   "outputs": [
    {
     "ename": "IndentationError",
     "evalue": "unexpected indent (73570325.py, line 5)",
     "output_type": "error",
     "traceback": [
      "\u001b[1;36m  Cell \u001b[1;32mIn[1], line 5\u001b[1;36m\u001b[0m\n\u001b[1;33m    print(\"가라\")\u001b[0m\n\u001b[1;37m    ^\u001b[0m\n\u001b[1;31mIndentationError\u001b[0m\u001b[1;31m:\u001b[0m unexpected indent\n"
     ]
    }
   ],
   "source": [
    "money = True\n",
    "if money:\n",
    "    print(\"택시를\")\n",
    "    print(\"타고\")\n",
    "        print(\"가라\")"
   ]
  },
  {
   "cell_type": "code",
   "execution_count": 2,
   "id": "e77ed3ed-7558-4000-8d9e-cade1e64dc5e",
   "metadata": {
    "tags": []
   },
   "outputs": [],
   "source": [
    "# 주민등록번호를 입력받아서 성별을 체크하고 출력합니다.\n",
    "1,3 - 남자 , 2,4 - 여자"
   ]
  },
  {
   "cell_type": "code",
   "execution_count": 6,
   "id": "11c2bcf4-a889-42ed-a161-87f4065cf7e4",
   "metadata": {
    "tags": []
   },
   "outputs": [
    {
     "name": "stdin",
     "output_type": "stream",
     "text": [
      "주민등록번호(000101-3123456) >>> 11111111111111\n"
     ]
    },
    {
     "name": "stdout",
     "output_type": "stream",
     "text": [
      "남자\n"
     ]
    }
   ],
   "source": [
    "jumin = input('주민등록번호(000101-3123456) >>>')\n",
    "if jumin[7] in ['1','3']:print('남자')\n",
    "elif jumin[7] in ['2','4']:print('여자')\n",
    "else:\n",
    "    print('오류')"
   ]
  },
  {
   "cell_type": "code",
   "execution_count": 15,
   "id": "19072c8c-1b49-453b-bf6a-7a6a3363f535",
   "metadata": {
    "tags": []
   },
   "outputs": [
    {
     "name": "stdin",
     "output_type": "stream",
     "text": [
      "점수를 입력 >>> 45\n"
     ]
    },
    {
     "name": "stdout",
     "output_type": "stream",
     "text": [
      "failure\n"
     ]
    }
   ],
   "source": [
    "score = input('점수를 입력 >>>')\n",
    "\n",
    "if score.isdigit():\n",
    "    message = 'success' if int(score) >= 60 else 'failure'\n",
    "    print(message)\n",
    "else:\n",
    "    print('숫자를 입력하세요')"
   ]
  },
  {
   "cell_type": "code",
   "execution_count": 17,
   "id": "36ec43e2-53a8-47e6-906b-ba04e236332a",
   "metadata": {
    "collapsed": true,
    "jupyter": {
     "outputs_hidden": true
    },
    "tags": []
   },
   "outputs": [
    {
     "name": "stdout",
     "output_type": "stream",
     "text": [
      "숫자로 입력하세요\n"
     ]
    },
    {
     "name": "stdin",
     "output_type": "stream",
     "text": [
      "점수를 입력 >>> ㅗㅗ\n"
     ]
    },
    {
     "name": "stdout",
     "output_type": "stream",
     "text": [
      "숫자로 입력하세요\n"
     ]
    },
    {
     "name": "stdin",
     "output_type": "stream",
     "text": [
      "점수를 입력 >>> 67\n"
     ]
    },
    {
     "name": "stdout",
     "output_type": "stream",
     "text": [
      "success\n"
     ]
    }
   ],
   "source": [
    "score = ''\n",
    "while not score.isdigit():\n",
    "    print('숫자로 입력하세요')\n",
    "    score = input('점수를 입력 >>>')\n",
    "message = 'success' if int(score) >= 60 else 'failure'\n",
    "print(message)"
   ]
  },
  {
   "cell_type": "code",
   "execution_count": 18,
   "id": "fdc16733-4fd8-4aaa-b51c-a3dd31342205",
   "metadata": {
    "tags": []
   },
   "outputs": [
    {
     "name": "stdin",
     "output_type": "stream",
     "text": [
      "돈을 넣어 주세요:  300\n"
     ]
    },
    {
     "name": "stdout",
     "output_type": "stream",
     "text": [
      "커피를 줍니다.\n",
      "남은 커피의 양은 9개 입니다.\n"
     ]
    },
    {
     "name": "stdin",
     "output_type": "stream",
     "text": [
      "돈을 넣어 주세요:  500\n"
     ]
    },
    {
     "name": "stdout",
     "output_type": "stream",
     "text": [
      "거스름돈 200를 주고 커피를 줍니다.\n",
      "남은 커피의 양은 8개 입니다.\n"
     ]
    },
    {
     "name": "stdin",
     "output_type": "stream",
     "text": [
      "돈을 넣어 주세요:  200\n"
     ]
    },
    {
     "name": "stdout",
     "output_type": "stream",
     "text": [
      "돈을 다시 돌려주고 커피를 주지 않습니다.\n",
      "남은 커피의 양은 8개 입니다.\n"
     ]
    },
    {
     "name": "stdin",
     "output_type": "stream",
     "text": [
      "돈을 넣어 주세요:  1000\n"
     ]
    },
    {
     "name": "stdout",
     "output_type": "stream",
     "text": [
      "거스름돈 700를 주고 커피를 줍니다.\n",
      "남은 커피의 양은 7개 입니다.\n"
     ]
    },
    {
     "name": "stdin",
     "output_type": "stream",
     "text": [
      "돈을 넣어 주세요:  1000\n"
     ]
    },
    {
     "name": "stdout",
     "output_type": "stream",
     "text": [
      "거스름돈 700를 주고 커피를 줍니다.\n",
      "남은 커피의 양은 6개 입니다.\n"
     ]
    },
    {
     "name": "stdin",
     "output_type": "stream",
     "text": [
      "돈을 넣어 주세요:  1000\n"
     ]
    },
    {
     "name": "stdout",
     "output_type": "stream",
     "text": [
      "거스름돈 700를 주고 커피를 줍니다.\n",
      "남은 커피의 양은 5개 입니다.\n"
     ]
    },
    {
     "name": "stdin",
     "output_type": "stream",
     "text": [
      "돈을 넣어 주세요:  1000\n"
     ]
    },
    {
     "name": "stdout",
     "output_type": "stream",
     "text": [
      "거스름돈 700를 주고 커피를 줍니다.\n",
      "남은 커피의 양은 4개 입니다.\n"
     ]
    },
    {
     "name": "stdin",
     "output_type": "stream",
     "text": [
      "돈을 넣어 주세요:  1000\n"
     ]
    },
    {
     "name": "stdout",
     "output_type": "stream",
     "text": [
      "거스름돈 700를 주고 커피를 줍니다.\n",
      "남은 커피의 양은 3개 입니다.\n"
     ]
    },
    {
     "name": "stdin",
     "output_type": "stream",
     "text": [
      "돈을 넣어 주세요:  1000\n"
     ]
    },
    {
     "name": "stdout",
     "output_type": "stream",
     "text": [
      "거스름돈 700를 주고 커피를 줍니다.\n",
      "남은 커피의 양은 2개 입니다.\n"
     ]
    },
    {
     "name": "stdin",
     "output_type": "stream",
     "text": [
      "돈을 넣어 주세요:  1000\n"
     ]
    },
    {
     "name": "stdout",
     "output_type": "stream",
     "text": [
      "거스름돈 700를 주고 커피를 줍니다.\n",
      "남은 커피의 양은 1개 입니다.\n"
     ]
    },
    {
     "name": "stdin",
     "output_type": "stream",
     "text": [
      "돈을 넣어 주세요:  1111\n"
     ]
    },
    {
     "name": "stdout",
     "output_type": "stream",
     "text": [
      "거스름돈 811를 주고 커피를 줍니다.\n",
      "남은 커피의 양은 0개 입니다.\n",
      "커피가 다 떨어졌습니다. 판매를 중지 합니다.\n"
     ]
    }
   ],
   "source": [
    "coffee = 10\n",
    "while True:\n",
    "    money = int(input(\"돈을 넣어 주세요: \"))\n",
    "    if money == 300:\n",
    "        print(\"커피를 줍니다.\")\n",
    "        coffee = coffee -1\n",
    "    elif money > 300:\n",
    "        print(\"거스름돈 %d를 주고 커피를 줍니다.\" % (money -300))\n",
    "        coffee = coffee -1\n",
    "    else:\n",
    "        print(\"돈을 다시 돌려주고 커피를 주지 않습니다.\")\n",
    "    print(\"남은 커피의 양은 %d개 입니다.\" % coffee)\n",
    "    if coffee == 0:\n",
    "        print(\"커피가 다 떨어졌습니다. 판매를 중지 합니다.\")\n",
    "        break"
   ]
  },
  {
   "cell_type": "code",
   "execution_count": 19,
   "id": "95248b64-4699-4eb5-892e-c923b95db876",
   "metadata": {
    "tags": []
   },
   "outputs": [
    {
     "data": {
      "text/plain": [
       "range(1, 10)"
      ]
     },
     "execution_count": 19,
     "metadata": {},
     "output_type": "execute_result"
    }
   ],
   "source": [
    "range(1,10)"
   ]
  },
  {
   "cell_type": "code",
   "execution_count": 22,
   "id": "29348a5a-b766-475e-8211-a1d4288edce3",
   "metadata": {
    "tags": []
   },
   "outputs": [
    {
     "name": "stdout",
     "output_type": "stream",
     "text": [
      "1\n",
      "3\n",
      "5\n",
      "7\n",
      "9\n"
     ]
    }
   ],
   "source": [
    "for i in range(1,11,2):\n",
    "    print(i)"
   ]
  },
  {
   "cell_type": "code",
   "execution_count": 21,
   "id": "b4ee9726-dc30-4816-a044-7f0fe5be6011",
   "metadata": {
    "tags": []
   },
   "outputs": [
    {
     "name": "stdout",
     "output_type": "stream",
     "text": [
      "1\n",
      "3\n",
      "6\n",
      "8\n",
      "3\n",
      "9\n"
     ]
    }
   ],
   "source": [
    "data = [1,3,6,8,3,9]\n",
    "for i in data:\n",
    "    print(i)"
   ]
  },
  {
   "cell_type": "code",
   "execution_count": null,
   "id": "84c5663c-b11c-49cc-b2ec-1a602ac4afbb",
   "metadata": {},
   "outputs": [],
   "source": [
    "# \n",
    "     2단\n",
    "--------------\n",
    "  2 * 1  = 2\n",
    "  2 * 2  = 4\n",
    "\n",
    "     3단\n",
    "--------------\n",
    "  3 * 1  = 3\n",
    "  3 * 2  = 6\n",
    "\n",
    "\n",
    "#\n",
    "  2 * 1  = 2    3 * 1  = 3\n",
    "  2 * 2  = 4    3 * 2  = 6"
   ]
  },
  {
   "cell_type": "code",
   "execution_count": 25,
   "id": "c5642c33-1f75-4d25-a2f3-67340e80468b",
   "metadata": {
    "collapsed": true,
    "jupyter": {
     "outputs_hidden": true
    },
    "tags": []
   },
   "outputs": [
    {
     "name": "stdout",
     "output_type": "stream",
     "text": [
      "\n",
      "     2      \n",
      "---------------\n",
      " 2 * 1 =  2\n",
      " 2 * 2 =  4\n",
      " 2 * 3 =  6\n",
      " 2 * 4 =  8\n",
      " 2 * 5 = 10\n",
      " 2 * 6 = 12\n",
      " 2 * 7 = 14\n",
      " 2 * 8 = 16\n",
      " 2 * 9 = 18\n",
      "\n",
      "     3      \n",
      "---------------\n",
      " 3 * 1 =  3\n",
      " 3 * 2 =  6\n",
      " 3 * 3 =  9\n",
      " 3 * 4 = 12\n",
      " 3 * 5 = 15\n",
      " 3 * 6 = 18\n",
      " 3 * 7 = 21\n",
      " 3 * 8 = 24\n",
      " 3 * 9 = 27\n",
      "\n",
      "     4      \n",
      "---------------\n",
      " 4 * 1 =  4\n",
      " 4 * 2 =  8\n",
      " 4 * 3 = 12\n",
      " 4 * 4 = 16\n",
      " 4 * 5 = 20\n",
      " 4 * 6 = 24\n",
      " 4 * 7 = 28\n",
      " 4 * 8 = 32\n",
      " 4 * 9 = 36\n",
      "\n",
      "     5      \n",
      "---------------\n",
      " 5 * 1 =  5\n",
      " 5 * 2 = 10\n",
      " 5 * 3 = 15\n",
      " 5 * 4 = 20\n",
      " 5 * 5 = 25\n",
      " 5 * 6 = 30\n",
      " 5 * 7 = 35\n",
      " 5 * 8 = 40\n",
      " 5 * 9 = 45\n",
      "\n",
      "     6      \n",
      "---------------\n",
      " 6 * 1 =  6\n",
      " 6 * 2 = 12\n",
      " 6 * 3 = 18\n",
      " 6 * 4 = 24\n",
      " 6 * 5 = 30\n",
      " 6 * 6 = 36\n",
      " 6 * 7 = 42\n",
      " 6 * 8 = 48\n",
      " 6 * 9 = 54\n",
      "\n",
      "     7      \n",
      "---------------\n",
      " 7 * 1 =  7\n",
      " 7 * 2 = 14\n",
      " 7 * 3 = 21\n",
      " 7 * 4 = 28\n",
      " 7 * 5 = 35\n",
      " 7 * 6 = 42\n",
      " 7 * 7 = 49\n",
      " 7 * 8 = 56\n",
      " 7 * 9 = 63\n",
      "\n",
      "     8      \n",
      "---------------\n",
      " 8 * 1 =  8\n",
      " 8 * 2 = 16\n",
      " 8 * 3 = 24\n",
      " 8 * 4 = 32\n",
      " 8 * 5 = 40\n",
      " 8 * 6 = 48\n",
      " 8 * 7 = 56\n",
      " 8 * 8 = 64\n",
      " 8 * 9 = 72\n",
      "\n",
      "     9      \n",
      "---------------\n",
      " 9 * 1 =  9\n",
      " 9 * 2 = 18\n",
      " 9 * 3 = 27\n",
      " 9 * 4 = 36\n",
      " 9 * 5 = 45\n",
      " 9 * 6 = 54\n",
      " 9 * 7 = 63\n",
      " 9 * 8 = 72\n",
      " 9 * 9 = 81\n"
     ]
    }
   ],
   "source": [
    "for i in range(2,10):\n",
    "    print()\n",
    "    print(f'{i:^12}')\n",
    "    print('-'*15)\n",
    "    for j in range(1,10):\n",
    "        print(f' {i} * {j} = {i*j:2}')\n",
    "        "
   ]
  },
  {
   "cell_type": "code",
   "execution_count": 29,
   "id": "9afa5e5b-1eae-4dfb-888a-599afcface38",
   "metadata": {
    "tags": []
   },
   "outputs": [
    {
     "name": "stdout",
     "output_type": "stream",
     "text": [
      " 2 * 1 =  2   3 * 1 =  3   4 * 1 =  4   5 * 1 =  5   6 * 1 =  6   7 * 1 =  7   8 * 1 =  8   9 * 1 =  9  \n",
      " 2 * 2 =  4   3 * 2 =  6   4 * 2 =  8   5 * 2 = 10   6 * 2 = 12   7 * 2 = 14   8 * 2 = 16   9 * 2 = 18  \n",
      " 2 * 3 =  6   3 * 3 =  9   4 * 3 = 12   5 * 3 = 15   6 * 3 = 18   7 * 3 = 21   8 * 3 = 24   9 * 3 = 27  \n",
      " 2 * 4 =  8   3 * 4 = 12   4 * 4 = 16   5 * 4 = 20   6 * 4 = 24   7 * 4 = 28   8 * 4 = 32   9 * 4 = 36  \n",
      " 2 * 5 = 10   3 * 5 = 15   4 * 5 = 20   5 * 5 = 25   6 * 5 = 30   7 * 5 = 35   8 * 5 = 40   9 * 5 = 45  \n",
      " 2 * 6 = 12   3 * 6 = 18   4 * 6 = 24   5 * 6 = 30   6 * 6 = 36   7 * 6 = 42   8 * 6 = 48   9 * 6 = 54  \n",
      " 2 * 7 = 14   3 * 7 = 21   4 * 7 = 28   5 * 7 = 35   6 * 7 = 42   7 * 7 = 49   8 * 7 = 56   9 * 7 = 63  \n",
      " 2 * 8 = 16   3 * 8 = 24   4 * 8 = 32   5 * 8 = 40   6 * 8 = 48   7 * 8 = 56   8 * 8 = 64   9 * 8 = 72  \n",
      " 2 * 9 = 18   3 * 9 = 27   4 * 9 = 36   5 * 9 = 45   6 * 9 = 54   7 * 9 = 63   8 * 9 = 72   9 * 9 = 81  \n"
     ]
    }
   ],
   "source": [
    "for i in range(1,10):\n",
    "    for j in range(2,10):\n",
    "        print(f' {j} * {i} = {i*j:2}',end='  ')  \n",
    "    print()"
   ]
  },
  {
   "cell_type": "code",
   "execution_count": null,
   "id": "8cdb59c2-c352-45a2-809b-1cfe32221eaa",
   "metadata": {},
   "outputs": [],
   "source": []
  }
 ],
 "metadata": {
  "kernelspec": {
   "display_name": "Python 3 (ipykernel)",
   "language": "python",
   "name": "python3"
  },
  "language_info": {
   "codemirror_mode": {
    "name": "ipython",
    "version": 3
   },
   "file_extension": ".py",
   "mimetype": "text/x-python",
   "name": "python",
   "nbconvert_exporter": "python",
   "pygments_lexer": "ipython3",
   "version": "3.11.5"
  }
 },
 "nbformat": 4,
 "nbformat_minor": 5
}
