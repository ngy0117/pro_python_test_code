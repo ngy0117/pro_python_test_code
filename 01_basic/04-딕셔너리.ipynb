{
 "cells": [
  {
   "cell_type": "code",
   "execution_count": 1,
   "id": "b6574ef8-bb1a-4da5-b5c7-db737edc549a",
   "metadata": {
    "tags": []
   },
   "outputs": [],
   "source": [
    "d = dict()"
   ]
  },
  {
   "cell_type": "code",
   "execution_count": 2,
   "id": "d277a734-43fc-48e7-bc13-f238b3ac42d0",
   "metadata": {
    "tags": []
   },
   "outputs": [
    {
     "data": {
      "text/plain": [
       "dict"
      ]
     },
     "execution_count": 2,
     "metadata": {},
     "output_type": "execute_result"
    }
   ],
   "source": [
    "type(d)"
   ]
  },
  {
   "cell_type": "code",
   "execution_count": 3,
   "id": "8cddca16-501a-47ad-aef3-6c13fc172103",
   "metadata": {
    "tags": []
   },
   "outputs": [
    {
     "data": {
      "text/plain": [
       "{}"
      ]
     },
     "execution_count": 3,
     "metadata": {},
     "output_type": "execute_result"
    }
   ],
   "source": [
    "d"
   ]
  },
  {
   "cell_type": "code",
   "execution_count": 26,
   "id": "e29bb660-0c79-4c5d-9a89-c4e7f38ecceb",
   "metadata": {
    "tags": []
   },
   "outputs": [],
   "source": [
    "dic = {'name': 'pey', \n",
    "       'phone': '010-9999-1234', \n",
    "       'birth': '1118',\n",
    "       'address':'서울'}"
   ]
  },
  {
   "cell_type": "code",
   "execution_count": 27,
   "id": "d94f336d-c2e8-4b60-be5e-908f7228b34e",
   "metadata": {
    "tags": []
   },
   "outputs": [
    {
     "data": {
      "text/plain": [
       "'pey'"
      ]
     },
     "execution_count": 27,
     "metadata": {},
     "output_type": "execute_result"
    }
   ],
   "source": [
    "dic['name']"
   ]
  },
  {
   "cell_type": "code",
   "execution_count": 29,
   "id": "a180db16-2133-40d3-9c61-817bd62fe677",
   "metadata": {
    "tags": []
   },
   "outputs": [
    {
     "data": {
      "text/plain": [
       "'서울'"
      ]
     },
     "execution_count": 29,
     "metadata": {},
     "output_type": "execute_result"
    }
   ],
   "source": [
    "dic['address']"
   ]
  },
  {
   "cell_type": "code",
   "execution_count": 30,
   "id": "61dab452-306a-4f01-a404-2d26adce4bee",
   "metadata": {
    "tags": []
   },
   "outputs": [
    {
     "data": {
      "text/plain": [
       "{'name': 'pey',\n",
       " 'phone': '010-9999-1234',\n",
       " 'birth': '1118',\n",
       " 'address': '서울',\n",
       " 'etc': ''}"
      ]
     },
     "execution_count": 30,
     "metadata": {},
     "output_type": "execute_result"
    }
   ],
   "source": [
    "dic['etc']=''\n",
    "dic"
   ]
  },
  {
   "cell_type": "code",
   "execution_count": 31,
   "id": "2e890570-b0df-491b-94a3-e3f123e04775",
   "metadata": {
    "tags": []
   },
   "outputs": [],
   "source": [
    "dic['name']='홍길동'"
   ]
  },
  {
   "cell_type": "code",
   "execution_count": 32,
   "id": "69248172-ac90-4b93-9e93-d57fb6d5555d",
   "metadata": {
    "tags": []
   },
   "outputs": [
    {
     "data": {
      "text/plain": [
       "{'name': '홍길동',\n",
       " 'phone': '010-9999-1234',\n",
       " 'birth': '1118',\n",
       " 'address': '서울',\n",
       " 'etc': ''}"
      ]
     },
     "execution_count": 32,
     "metadata": {},
     "output_type": "execute_result"
    }
   ],
   "source": [
    "dic"
   ]
  },
  {
   "cell_type": "code",
   "execution_count": 33,
   "id": "9f7cf354-db43-4432-866b-18f86a606d65",
   "metadata": {
    "tags": []
   },
   "outputs": [],
   "source": [
    "del dic['etc']"
   ]
  },
  {
   "cell_type": "code",
   "execution_count": 34,
   "id": "ecfd712f-0fa7-4bde-8768-b14fe00424d8",
   "metadata": {
    "tags": []
   },
   "outputs": [
    {
     "data": {
      "text/plain": [
       "{'name': '홍길동', 'phone': '010-9999-1234', 'birth': '1118', 'address': '서울'}"
      ]
     },
     "execution_count": 34,
     "metadata": {},
     "output_type": "execute_result"
    }
   ],
   "source": [
    "dic"
   ]
  },
  {
   "cell_type": "code",
   "execution_count": 35,
   "id": "8d2ced50-7e64-4f60-b96a-e83396a0b388",
   "metadata": {
    "tags": []
   },
   "outputs": [
    {
     "data": {
      "text/plain": [
       "'010-9999-1234'"
      ]
     },
     "execution_count": 35,
     "metadata": {},
     "output_type": "execute_result"
    }
   ],
   "source": [
    "dic['phone']"
   ]
  },
  {
   "cell_type": "code",
   "execution_count": 36,
   "id": "06e7a3cb-1590-41fc-8d29-9458fe4eaac0",
   "metadata": {
    "tags": []
   },
   "outputs": [
    {
     "data": {
      "text/plain": [
       "dict_keys(['name', 'phone', 'birth', 'address'])"
      ]
     },
     "execution_count": 36,
     "metadata": {},
     "output_type": "execute_result"
    }
   ],
   "source": [
    "dic.keys()"
   ]
  },
  {
   "cell_type": "code",
   "execution_count": 37,
   "id": "0d5f1f7a-3eee-4b22-b362-8a819ca5c9ef",
   "metadata": {
    "tags": []
   },
   "outputs": [
    {
     "data": {
      "text/plain": [
       "dict_values(['홍길동', '010-9999-1234', '1118', '서울'])"
      ]
     },
     "execution_count": 37,
     "metadata": {},
     "output_type": "execute_result"
    }
   ],
   "source": [
    "dic.values()"
   ]
  },
  {
   "cell_type": "code",
   "execution_count": 38,
   "id": "a97181c9-b9fb-435f-ba80-544090c58fa6",
   "metadata": {
    "tags": []
   },
   "outputs": [
    {
     "data": {
      "text/plain": [
       "dict_items([('name', '홍길동'), ('phone', '010-9999-1234'), ('birth', '1118'), ('address', '서울')])"
      ]
     },
     "execution_count": 38,
     "metadata": {},
     "output_type": "execute_result"
    }
   ],
   "source": [
    "dic.items()"
   ]
  },
  {
   "cell_type": "code",
   "execution_count": 39,
   "id": "371c3e24-466d-4215-90b3-dd60acbf9307",
   "metadata": {
    "tags": []
   },
   "outputs": [
    {
     "data": {
      "text/plain": [
       "['name', 'phone', 'birth', 'address']"
      ]
     },
     "execution_count": 39,
     "metadata": {},
     "output_type": "execute_result"
    }
   ],
   "source": [
    "list(dic.keys())"
   ]
  },
  {
   "cell_type": "code",
   "execution_count": 41,
   "id": "b1ebb9b9-776e-4d13-befd-ee0814a4c1c6",
   "metadata": {
    "tags": []
   },
   "outputs": [
    {
     "name": "stdout",
     "output_type": "stream",
     "text": [
      "{'name': '홍길동', 'phone': '010-9999-1234', 'birth': '1118', 'address': '서울'}\n"
     ]
    }
   ],
   "source": [
    "print(dic)"
   ]
  },
  {
   "cell_type": "code",
   "execution_count": 43,
   "id": "f8d8488c-e4b0-4d8f-8104-324efca9e71c",
   "metadata": {
    "tags": []
   },
   "outputs": [
    {
     "data": {
      "text/plain": [
       "[('name', '홍길동'),\n",
       " ('phone', '010-9999-1234'),\n",
       " ('birth', '1118'),\n",
       " ('address', '서울')]"
      ]
     },
     "execution_count": 43,
     "metadata": {},
     "output_type": "execute_result"
    }
   ],
   "source": [
    "list(dic.items())"
   ]
  },
  {
   "cell_type": "code",
   "execution_count": 49,
   "id": "569a15af-2701-40a9-aad1-76c250b6f58f",
   "metadata": {
    "tags": []
   },
   "outputs": [
    {
     "name": "stdout",
     "output_type": "stream",
     "text": [
      "홍길동\n",
      "010-9999-1234\n",
      "1118\n",
      "서울\n"
     ]
    }
   ],
   "source": [
    "for i in dic:\n",
    "    print(dic[i])"
   ]
  },
  {
   "cell_type": "code",
   "execution_count": 46,
   "id": "120e9c45-04fd-4c0f-ba17-3e5f92fff996",
   "metadata": {
    "tags": []
   },
   "outputs": [
    {
     "name": "stdout",
     "output_type": "stream",
     "text": [
      "홍길동\n",
      "010-9999-1234\n",
      "1118\n",
      "서울\n"
     ]
    }
   ],
   "source": [
    "for i in dic.values():\n",
    "    print(i)"
   ]
  },
  {
   "cell_type": "code",
   "execution_count": 47,
   "id": "1dd1a48c-13d6-431d-ae9f-52f0dac260f4",
   "metadata": {
    "tags": []
   },
   "outputs": [
    {
     "name": "stdout",
     "output_type": "stream",
     "text": [
      "('name', '홍길동')\n",
      "('phone', '010-9999-1234')\n",
      "('birth', '1118')\n",
      "('address', '서울')\n"
     ]
    }
   ],
   "source": [
    "for i in dic.items():\n",
    "    print(i)"
   ]
  },
  {
   "cell_type": "code",
   "execution_count": 50,
   "id": "1a447745-724c-4f52-879f-4fcafe0cf6a8",
   "metadata": {
    "tags": []
   },
   "outputs": [
    {
     "data": {
      "text/plain": [
       "{'name': '홍길동', 'phone': '010-9999-1234', 'birth': '1118', 'address': '서울'}"
      ]
     },
     "execution_count": 50,
     "metadata": {},
     "output_type": "execute_result"
    }
   ],
   "source": [
    "dic"
   ]
  },
  {
   "cell_type": "code",
   "execution_count": 51,
   "id": "c9ec1aa5-1737-4c0b-b183-c3cccc70e9e7",
   "metadata": {
    "tags": []
   },
   "outputs": [
    {
     "data": {
      "text/plain": [
       "'홍길동'"
      ]
     },
     "execution_count": 51,
     "metadata": {},
     "output_type": "execute_result"
    }
   ],
   "source": [
    "dic['name']"
   ]
  },
  {
   "cell_type": "code",
   "execution_count": 52,
   "id": "31b17e06-dbaa-4bbc-9914-0c985efa0cbd",
   "metadata": {
    "tags": []
   },
   "outputs": [
    {
     "ename": "KeyError",
     "evalue": "'이름'",
     "output_type": "error",
     "traceback": [
      "\u001b[1;31m---------------------------------------------------------------------------\u001b[0m",
      "\u001b[1;31mKeyError\u001b[0m                                  Traceback (most recent call last)",
      "Cell \u001b[1;32mIn[52], line 1\u001b[0m\n\u001b[1;32m----> 1\u001b[0m dic[\u001b[38;5;124m'\u001b[39m\u001b[38;5;124m이름\u001b[39m\u001b[38;5;124m'\u001b[39m]\n",
      "\u001b[1;31mKeyError\u001b[0m: '이름'"
     ]
    }
   ],
   "source": [
    "dic['이름']"
   ]
  },
  {
   "cell_type": "code",
   "execution_count": 53,
   "id": "260c0557-3f75-4293-ab66-2248f3d7eb4f",
   "metadata": {
    "tags": []
   },
   "outputs": [],
   "source": [
    "dic.get('이름')"
   ]
  },
  {
   "cell_type": "code",
   "execution_count": 54,
   "id": "f7062810-2778-4315-a753-3bd5f01c86bf",
   "metadata": {
    "tags": []
   },
   "outputs": [
    {
     "data": {
      "text/plain": [
       "'홍길동'"
      ]
     },
     "execution_count": 54,
     "metadata": {},
     "output_type": "execute_result"
    }
   ],
   "source": [
    "dic.get('name')"
   ]
  },
  {
   "cell_type": "code",
   "execution_count": 55,
   "id": "7d674757-0804-4a54-b025-42e3d74db2c3",
   "metadata": {
    "tags": []
   },
   "outputs": [
    {
     "data": {
      "text/plain": [
       "True"
      ]
     },
     "execution_count": 55,
     "metadata": {},
     "output_type": "execute_result"
    }
   ],
   "source": [
    "'name' in dic"
   ]
  },
  {
   "cell_type": "code",
   "execution_count": 56,
   "id": "ea41fa42-eda2-4bba-b879-098a380fafaf",
   "metadata": {
    "tags": []
   },
   "outputs": [
    {
     "data": {
      "text/plain": [
       "False"
      ]
     },
     "execution_count": 56,
     "metadata": {},
     "output_type": "execute_result"
    }
   ],
   "source": [
    "'이름' in dic"
   ]
  },
  {
   "cell_type": "code",
   "execution_count": 57,
   "id": "2ddedd3c-e8a0-46f0-8c9f-d88bade6da45",
   "metadata": {
    "tags": []
   },
   "outputs": [
    {
     "data": {
      "text/plain": [
       "set()"
      ]
     },
     "execution_count": 57,
     "metadata": {},
     "output_type": "execute_result"
    }
   ],
   "source": [
    "a = set()\n",
    "a"
   ]
  },
  {
   "cell_type": "code",
   "execution_count": 58,
   "id": "1ffb2f0d-397a-48f1-9685-e8b5608495d3",
   "metadata": {
    "tags": []
   },
   "outputs": [
    {
     "data": {
      "text/plain": [
       "set"
      ]
     },
     "execution_count": 58,
     "metadata": {},
     "output_type": "execute_result"
    }
   ],
   "source": [
    "type(a)"
   ]
  },
  {
   "cell_type": "code",
   "execution_count": 59,
   "id": "112ecbae-a951-4591-96d8-8de7eac644e2",
   "metadata": {
    "tags": []
   },
   "outputs": [
    {
     "name": "stdout",
     "output_type": "stream",
     "text": [
      "4\n",
      "3\n",
      "2\n",
      "1\n"
     ]
    }
   ],
   "source": [
    "a=[1,2,3,4]\n",
    "while a:\n",
    "    print(a.pop())"
   ]
  },
  {
   "cell_type": "code",
   "execution_count": 60,
   "id": "c66f61e3-f09d-4202-bca9-a4947fb78e14",
   "metadata": {
    "tags": []
   },
   "outputs": [
    {
     "ename": "SyntaxError",
     "evalue": "invalid decimal literal (1848045764.py, line 1)",
     "output_type": "error",
     "traceback": [
      "\u001b[1;36m  Cell \u001b[1;32mIn[60], line 1\u001b[1;36m\u001b[0m\n\u001b[1;33m    1ab = 1\u001b[0m\n\u001b[1;37m    ^\u001b[0m\n\u001b[1;31mSyntaxError\u001b[0m\u001b[1;31m:\u001b[0m invalid decimal literal\n"
     ]
    }
   ],
   "source": [
    "1ab = 1"
   ]
  },
  {
   "cell_type": "code",
   "execution_count": 61,
   "id": "a5523cfb-47fd-486b-88e5-30f6d060f627",
   "metadata": {
    "tags": []
   },
   "outputs": [],
   "source": [
    "변수 = 1"
   ]
  },
  {
   "cell_type": "code",
   "execution_count": 62,
   "id": "bf5d0a25-1f90-4982-86ab-788f8efa4eca",
   "metadata": {
    "tags": []
   },
   "outputs": [
    {
     "data": {
      "text/plain": [
       "1"
      ]
     },
     "execution_count": 62,
     "metadata": {},
     "output_type": "execute_result"
    }
   ],
   "source": [
    "변수"
   ]
  },
  {
   "cell_type": "code",
   "execution_count": 63,
   "id": "f638ebc6-a92f-4b61-9020-1d90867ec2a5",
   "metadata": {
    "tags": []
   },
   "outputs": [],
   "source": [
    "a_b =1"
   ]
  },
  {
   "cell_type": "code",
   "execution_count": 64,
   "id": "d80e9f97-5838-4cdf-a4bc-7e7be309b642",
   "metadata": {
    "tags": []
   },
   "outputs": [
    {
     "data": {
      "text/plain": [
       "1"
      ]
     },
     "execution_count": 64,
     "metadata": {},
     "output_type": "execute_result"
    }
   ],
   "source": [
    "a_b"
   ]
  },
  {
   "cell_type": "code",
   "execution_count": 65,
   "id": "c2658497-d161-4e80-a418-3c83942374cc",
   "metadata": {
    "tags": []
   },
   "outputs": [
    {
     "ename": "SyntaxError",
     "evalue": "cannot assign to expression here. Maybe you meant '==' instead of '='? (3201360943.py, line 1)",
     "output_type": "error",
     "traceback": [
      "\u001b[1;36m  Cell \u001b[1;32mIn[65], line 1\u001b[1;36m\u001b[0m\n\u001b[1;33m    a-b = 1\u001b[0m\n\u001b[1;37m    ^\u001b[0m\n\u001b[1;31mSyntaxError\u001b[0m\u001b[1;31m:\u001b[0m cannot assign to expression here. Maybe you meant '==' instead of '='?\n"
     ]
    }
   ],
   "source": [
    "a-b = 1"
   ]
  },
  {
   "cell_type": "code",
   "execution_count": 66,
   "id": "5b183693-a1ca-471b-8fc8-1d7c8adc71fd",
   "metadata": {
    "tags": []
   },
   "outputs": [
    {
     "data": {
      "text/plain": [
       "[]"
      ]
     },
     "execution_count": 66,
     "metadata": {},
     "output_type": "execute_result"
    }
   ],
   "source": [
    "a"
   ]
  },
  {
   "cell_type": "code",
   "execution_count": 67,
   "id": "be3262df-9cae-48f9-ac5d-0cfe61d0126f",
   "metadata": {
    "tags": []
   },
   "outputs": [
    {
     "data": {
      "text/plain": [
       "2202333649920"
      ]
     },
     "execution_count": 67,
     "metadata": {},
     "output_type": "execute_result"
    }
   ],
   "source": [
    "id(a)"
   ]
  },
  {
   "cell_type": "code",
   "execution_count": 68,
   "id": "e2435365-0e33-43c4-8838-089a7d1bcfbb",
   "metadata": {
    "tags": []
   },
   "outputs": [
    {
     "data": {
      "text/plain": [
       "(140711456379688, 140711456379688)"
      ]
     },
     "execution_count": 68,
     "metadata": {},
     "output_type": "execute_result"
    }
   ],
   "source": [
    "a = 1\n",
    "b = 1\n",
    "id(a),id(b)"
   ]
  },
  {
   "cell_type": "code",
   "execution_count": 69,
   "id": "4b5d6bd8-bc99-4f97-b10f-d136d03471e3",
   "metadata": {
    "tags": []
   },
   "outputs": [
    {
     "data": {
      "text/plain": [
       "True"
      ]
     },
     "execution_count": 69,
     "metadata": {},
     "output_type": "execute_result"
    }
   ],
   "source": [
    "a is b"
   ]
  },
  {
   "cell_type": "code",
   "execution_count": 70,
   "id": "0e388f11-273e-4567-b8fa-222c0c9328b1",
   "metadata": {
    "tags": []
   },
   "outputs": [
    {
     "data": {
      "text/plain": [
       "(2202333651456, 2202333650432)"
      ]
     },
     "execution_count": 70,
     "metadata": {},
     "output_type": "execute_result"
    }
   ],
   "source": [
    "c = [1,2,3]\n",
    "d = [1,2,3]\n",
    "id(c),id(d)"
   ]
  },
  {
   "cell_type": "code",
   "execution_count": 71,
   "id": "2b9d56c0-bade-431c-88f5-5a92d9f333b0",
   "metadata": {
    "tags": []
   },
   "outputs": [
    {
     "data": {
      "text/plain": [
       "False"
      ]
     },
     "execution_count": 71,
     "metadata": {},
     "output_type": "execute_result"
    }
   ],
   "source": [
    "c is d"
   ]
  },
  {
   "cell_type": "code",
   "execution_count": 72,
   "id": "8fce275b-9182-4b05-bfde-d9715c5e308d",
   "metadata": {
    "tags": []
   },
   "outputs": [
    {
     "data": {
      "text/plain": [
       "(2202333615168, 2202334142016)"
      ]
     },
     "execution_count": 72,
     "metadata": {},
     "output_type": "execute_result"
    }
   ],
   "source": [
    "a = [1,2,3]\n",
    "b = a[:]\n",
    "id(a),id(b)"
   ]
  },
  {
   "cell_type": "code",
   "execution_count": 73,
   "id": "437f6808-9427-45b4-8343-b9630db45904",
   "metadata": {
    "tags": []
   },
   "outputs": [
    {
     "data": {
      "text/plain": [
       "False"
      ]
     },
     "execution_count": 73,
     "metadata": {},
     "output_type": "execute_result"
    }
   ],
   "source": [
    "a is b"
   ]
  },
  {
   "cell_type": "code",
   "execution_count": null,
   "id": "92be6c69-c8d0-4fc9-9fe0-29bd1be8524c",
   "metadata": {},
   "outputs": [],
   "source": []
  }
 ],
 "metadata": {
  "kernelspec": {
   "display_name": "Python 3 (ipykernel)",
   "language": "python",
   "name": "python3"
  },
  "language_info": {
   "codemirror_mode": {
    "name": "ipython",
    "version": 3
   },
   "file_extension": ".py",
   "mimetype": "text/x-python",
   "name": "python",
   "nbconvert_exporter": "python",
   "pygments_lexer": "ipython3",
   "version": "3.11.5"
  }
 },
 "nbformat": 4,
 "nbformat_minor": 5
}
